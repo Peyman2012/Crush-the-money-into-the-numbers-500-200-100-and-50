{
 "cells": [
  {
   "cell_type": "code",
   "execution_count": 3,
   "metadata": {},
   "outputs": [
    {
     "name": "stdout",
     "output_type": "stream",
     "text": [
      "Result is:\n",
      "\n",
      "( 0 , 0 , 2 , 16 )\t\n",
      "( 0 , 0 , 5 , 10 )\t\n",
      "( 0 , 0 , 8 , 4 )\t\n",
      "( 0 , 1 , 0 , 16 )\t\n",
      "( 0 , 1 , 3 , 10 )\t\n",
      "( 0 , 1 , 6 , 4 )\t\n",
      "( 0 , 2 , 0 , 12 )\t\n",
      "( 0 , 2 , 3 , 6 )\t\n",
      "( 0 , 2 , 6 , 0 )\t\n",
      "( 0 , 3 , 2 , 4 )\t\n",
      "( 0 , 4 , 0 , 4 )\t\n",
      "( 0 , 5 , 0 , 0 )\t\n",
      "( 1 , 0 , 2 , 6 )\t\n",
      "( 1 , 0 , 5 , 0 )\t\n",
      "( 1 , 1 , 2 , 2 )\t\n",
      "( 1 , 2 , 1 , 0 )\t"
     ]
    }
   ],
   "source": [
    "l=0\n",
    "print(\"Result is:\")\n",
    "for i in range(0,3):\n",
    "    for j in range(0,6):\n",
    "        for k in range(0,11):\n",
    "            for m in range(0,21):\n",
    "                sum=i*500+j*200+k*100+m*50\n",
    "                if sum==1000:\n",
    "                    l=l+1\n",
    "                    if l==3:\n",
    "                        print()\n",
    "                        l=0\n",
    "                        print(\"(\", i,\",\", j,\",\", k,\",\", m,\")\",end='\\t')"
   ]
  },
  {
   "cell_type": "code",
   "execution_count": null,
   "metadata": {},
   "outputs": [],
   "source": []
  }
 ],
 "metadata": {
  "kernelspec": {
   "display_name": "Python 3",
   "language": "python",
   "name": "python3"
  },
  "language_info": {
   "codemirror_mode": {
    "name": "ipython",
    "version": 3
   },
   "file_extension": ".py",
   "mimetype": "text/x-python",
   "name": "python",
   "nbconvert_exporter": "python",
   "pygments_lexer": "ipython3",
   "version": "3.6.13"
  }
 },
 "nbformat": 4,
 "nbformat_minor": 2
}
